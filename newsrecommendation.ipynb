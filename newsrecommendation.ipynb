{
  "nbformat": 4,
  "nbformat_minor": 0,
  "metadata": {
    "colab": {
      "provenance": [],
      "include_colab_link": true
    },
    "kernelspec": {
      "name": "python3",
      "display_name": "Python 3"
    },
    "language_info": {
      "name": "python"
    }
  },
  "cells": [
    {
      "cell_type": "markdown",
      "metadata": {
        "id": "view-in-github",
        "colab_type": "text"
      },
      "source": [
        "<a href=\"https://colab.research.google.com/github/sripriyaagarwal16/Green-Life-Hub/blob/main/newsrecommendation.ipynb\" target=\"_parent\"><img src=\"https://colab.research.google.com/assets/colab-badge.svg\" alt=\"Open In Colab\"/></a>"
      ]
    },
    {
      "cell_type": "markdown",
      "source": [
        "#Installing the surprise library"
      ],
      "metadata": {
        "id": "ClEQaf6zHf2D"
      }
    },
    {
      "cell_type": "code",
      "source": [
        " !pip install scikit-surprise"
      ],
      "metadata": {
        "colab": {
          "base_uri": "https://localhost:8080/"
        },
        "id": "sns0a0h4_M71",
        "outputId": "0d3d37c8-13ab-44cd-eb1d-ada798f55646"
      },
      "execution_count": null,
      "outputs": [
        {
          "output_type": "stream",
          "name": "stdout",
          "text": [
            "Collecting scikit-surprise\n",
            "  Downloading scikit-surprise-1.1.3.tar.gz (771 kB)\n",
            "\u001b[2K     \u001b[90m━━━━━━━━━━━━━━━━━━━━━━━━━━━━━━━━━━━━━━━━\u001b[0m \u001b[32m772.0/772.0 kB\u001b[0m \u001b[31m5.0 MB/s\u001b[0m eta \u001b[36m0:00:00\u001b[0m\n",
            "\u001b[?25h  Preparing metadata (setup.py) ... \u001b[?25l\u001b[?25hdone\n",
            "Requirement already satisfied: joblib>=1.0.0 in /usr/local/lib/python3.10/dist-packages (from scikit-surprise) (1.3.2)\n",
            "Requirement already satisfied: numpy>=1.17.3 in /usr/local/lib/python3.10/dist-packages (from scikit-surprise) (1.25.2)\n",
            "Requirement already satisfied: scipy>=1.3.2 in /usr/local/lib/python3.10/dist-packages (from scikit-surprise) (1.11.4)\n",
            "Building wheels for collected packages: scikit-surprise\n",
            "  Building wheel for scikit-surprise (setup.py) ... \u001b[?25l\u001b[?25hdone\n",
            "  Created wheel for scikit-surprise: filename=scikit_surprise-1.1.3-cp310-cp310-linux_x86_64.whl size=3162734 sha256=9a7852bf8572284edbd2fec2e05acd673d32cfdedbb90a327de8ff7246544f4c\n",
            "  Stored in directory: /root/.cache/pip/wheels/a5/ca/a8/4e28def53797fdc4363ca4af740db15a9c2f1595ebc51fb445\n",
            "Successfully built scikit-surprise\n",
            "Installing collected packages: scikit-surprise\n",
            "Successfully installed scikit-surprise-1.1.3\n"
          ]
        }
      ]
    },
    {
      "cell_type": "code",
      "source": [
        "from surprise import Dataset, Reader, SVD\n",
        "from surprise.model_selection import train_test_split\n",
        "from surprise.accuracy import rmse\n",
        "import pandas as pd\n"
      ],
      "metadata": {
        "id": "QoaioUaF2F5-"
      },
      "execution_count": null,
      "outputs": []
    },
    {
      "cell_type": "markdown",
      "source": [
        "#Dataset Loading"
      ],
      "metadata": {
        "id": "GaJYUSM-Hn0E"
      }
    },
    {
      "cell_type": "code",
      "source": [
        "import pandas as pd\n",
        "\n",
        "# Attempt to read the file, skipping problematic rows\n",
        "try:\n",
        "    behaviors_df = pd.read_csv('behaviors.tsv', delimiter='\\t', names=['Impression_ID', 'User_ID', 'Time', 'History', 'Impressions'], error_bad_lines=False)\n",
        "except pd.errors.ParserError as e:\n",
        "    print(\"ParserError:\", e)\n",
        "    print(\"Skipping problematic rows and attempting to read again...\")\n",
        "    behaviors_df = pd.read_csv('behaviors.tsv', delimiter='\\t', names=['Impression_ID', 'User_ID', 'Time', 'History', 'Impressions'], skiprows=[5364, 14443, 19795, 25164, 39546, 46690, 57457, 66485, 70030, 75369, 78878, 86052, 89629, 94931, 101997, 109155, 119856, 123477, 127066, 135959, 139554, 148570, 155714, 161072, 166393])\n",
        "\n",
        "# Suppress DtypeWarning for mixed data types\n",
        "pd.options.mode.chained_assignment = None\n",
        "\n",
        "# Further data preprocessing and modeling...\n"
      ],
      "metadata": {
        "colab": {
          "base_uri": "https://localhost:8080/"
        },
        "id": "UMqFMtoNTCHy",
        "outputId": "47f20b96-1ad3-4cc8-d58e-e3d1c170f65e"
      },
      "execution_count": null,
      "outputs": [
        {
          "output_type": "stream",
          "name": "stderr",
          "text": [
            "<ipython-input-3-b686a0583592>:5: FutureWarning: The error_bad_lines argument has been deprecated and will be removed in a future version. Use on_bad_lines in the future.\n",
            "\n",
            "\n",
            "  behaviors_df = pd.read_csv('behaviors.tsv', delimiter='\\t', names=['Impression_ID', 'User_ID', 'Time', 'History', 'Impressions'], error_bad_lines=False)\n"
          ]
        }
      ]
    },
    {
      "cell_type": "markdown",
      "source": [
        "#Cleaning the data"
      ],
      "metadata": {
        "id": "sjgWYLKAHt0s"
      }
    },
    {
      "cell_type": "code",
      "source": [
        "import pandas as pd\n",
        "\n",
        "# Define a function to clean the data\n",
        "def clean_behaviors_data(file_path):\n",
        "    cleaned_lines = []\n",
        "    with open(file_path, 'r') as file:\n",
        "        for line in file:\n",
        "            fields = line.strip().split('\\t')\n",
        "            if len(fields) >= 5:  # Check if the line has at least 5 fields\n",
        "                impression_id = fields[0]\n",
        "                user_id = fields[1]\n",
        "                time = fields[2]\n",
        "                history = fields[3]\n",
        "                impressions = '\\t'.join(fields[4:])\n",
        "                cleaned_line = '\\t'.join([impression_id, user_id, time, history, impressions])\n",
        "                cleaned_lines.append(cleaned_line)\n",
        "    return cleaned_lines\n",
        "\n",
        "# Clean the behaviors.tsv file\n",
        "cleaned_lines = clean_behaviors_data('behaviors.tsv')\n",
        "\n",
        "# Write the cleaned data to a new file\n",
        "with open('cleaned_behaviors.tsv', 'w') as file:\n",
        "    file.write('\\n'.join(cleaned_lines))\n",
        "\n",
        "# Read the cleaned data into a DataFrame, skipping problematic lines\n",
        "behaviors_df = pd.read_csv('cleaned_behaviors.tsv', delimiter='\\t', names=['Impression_ID', 'User_ID', 'Time', 'History', 'Impressions'], error_bad_lines=False)\n"
      ],
      "metadata": {
        "colab": {
          "base_uri": "https://localhost:8080/"
        },
        "id": "tGys61skU2tm",
        "outputId": "85b44da1-1623-4fcf-adf8-854d9ee5a88b"
      },
      "execution_count": null,
      "outputs": [
        {
          "output_type": "stream",
          "name": "stderr",
          "text": [
            "<ipython-input-4-9a0b65912ad1>:27: FutureWarning: The error_bad_lines argument has been deprecated and will be removed in a future version. Use on_bad_lines in the future.\n",
            "\n",
            "\n",
            "  behaviors_df = pd.read_csv('cleaned_behaviors.tsv', delimiter='\\t', names=['Impression_ID', 'User_ID', 'Time', 'History', 'Impressions'], error_bad_lines=False)\n"
          ]
        }
      ]
    },
    {
      "cell_type": "code",
      "source": [
        "\n",
        "news_df = pd.read_csv('news.tsv', delimiter='\\t', names=['News_ID', 'Category', 'SubCategory', 'Title', 'Abstract', 'URL', 'Title_Entities', 'Abstract_Entities'])\n"
      ],
      "metadata": {
        "id": "0xIxAgBH2F05"
      },
      "execution_count": null,
      "outputs": []
    },
    {
      "cell_type": "code",
      "source": [
        "behaviors_df['Time'] = pd.to_datetime(behaviors_df['Time'])\n",
        "\n",
        "# Example: Extract day of the week from 'Time' column\n",
        "behaviors_df['Day_of_Week'] = behaviors_df['Time'].dt.day_name()\n",
        "\n",
        "# Example: Calculate the total number of impressions for each user\n",
        "impressions_count = behaviors_df.groupby('User_ID')['Impression_ID'].count().reset_index()\n",
        "impressions_count.columns = ['User_ID', 'Total_Impressions']\n"
      ],
      "metadata": {
        "id": "8fQ0R1z1VK3i"
      },
      "execution_count": null,
      "outputs": []
    },
    {
      "cell_type": "code",
      "source": [
        "# Convert the 'History' column to strings (if not already)\n",
        "behaviors_df['History'] = behaviors_df['History'].astype(str)\n",
        "\n",
        "# Split the 'History' column by spaces to get a list of news article IDs\n",
        "behaviors_df['History'] = behaviors_df['History'].str.split()\n",
        "\n",
        "# Count the number of interactions for each news article ID\n",
        "behaviors_df['Rating'] = behaviors_df['History'].apply(len)\n",
        "\n",
        "# Convert the 'Rating' column to float\n",
        "behaviors_df['Rating'] = behaviors_df['Rating'].astype(float)\n"
      ],
      "metadata": {
        "id": "7Tqj0dw8Wqmz"
      },
      "execution_count": null,
      "outputs": []
    },
    {
      "cell_type": "markdown",
      "source": [
        "#Training the data"
      ],
      "metadata": {
        "id": "hnJY1a-nHxEg"
      }
    },
    {
      "cell_type": "code",
      "source": [
        "reader = Reader(rating_scale=(0, 1))\n",
        "data = Dataset.load_from_df(behaviors_df[['User_ID', 'Impression_ID','Rating']], reader)\n",
        "\n",
        "# Split the data into training and test sets\n",
        "trainset, testset = train_test_split(data, test_size=0.2, random_state=42)\n",
        "\n",
        "# Train the SVD model (or any other collaborative filtering model)\n",
        "model = SVD()\n",
        "model.fit(trainset)\n",
        "\n",
        "# Make predictions on the test set\n",
        "predictions = model.test(testset)"
      ],
      "metadata": {
        "id": "PGxdzxjAGa-B"
      },
      "execution_count": null,
      "outputs": []
    },
    {
      "cell_type": "markdown",
      "source": [
        "#Accuracy of Model"
      ],
      "metadata": {
        "id": "_vTJ8SlSH0Fk"
      }
    },
    {
      "cell_type": "code",
      "source": [
        "from surprise.accuracy import rmse\n",
        "from surprise import accuracy"
      ],
      "metadata": {
        "id": "veOcgwIQXdqd"
      },
      "execution_count": null,
      "outputs": []
    },
    {
      "cell_type": "code",
      "source": [
        "rmse_score = accuracy.rmse(predictions)\n"
      ],
      "metadata": {
        "colab": {
          "base_uri": "https://localhost:8080/"
        },
        "id": "5Ms8MLPjGa7n",
        "outputId": "732b2b82-e00a-43cc-bb31-56905bc2ce2e"
      },
      "execution_count": null,
      "outputs": [
        {
          "output_type": "stream",
          "name": "stdout",
          "text": [
            "RMSE: 50.3255\n"
          ]
        }
      ]
    },
    {
      "cell_type": "code",
      "source": [
        "user_id = 'U13740'\n",
        "items_already_rated_by_user = behaviors_df[behaviors_df['User_ID'] == user_id]['Impression_ID'].tolist()"
      ],
      "metadata": {
        "id": "Kf0U0iZmGa5M"
      },
      "execution_count": null,
      "outputs": []
    },
    {
      "cell_type": "markdown",
      "source": [
        "#Testing"
      ],
      "metadata": {
        "id": "rJpvpgnEH6aK"
      }
    },
    {
      "cell_type": "markdown",
      "source": [
        "Example1"
      ],
      "metadata": {
        "id": "XcnCcPr7N6f6"
      }
    },
    {
      "cell_type": "code",
      "source": [
        "all_impression_ids = behaviors_df['Impression_ID'].unique()\n",
        "impressions_to_predict = [impression_id for impression_id in all_impression_ids if impression_id not in items_already_rated_by_user]\n",
        "user_predictions = [model.predict(user_id, impression_id) for impression_id in impressions_to_predict]\n",
        "user_predictions.sort(key=lambda x: x.est, reverse=True)\n",
        "top_n = 10\n",
        "recommended_impression_ids = [prediction.iid for prediction in user_predictions[:top_n]]\n",
        "print(\"Top\", top_n, \"recommended impressions for user\", user_id, \":\", recommended_impression_ids)"
      ],
      "metadata": {
        "colab": {
          "base_uri": "https://localhost:8080/"
        },
        "id": "HABhw0u6Ga29",
        "outputId": "dbbe3c2a-fee6-4f2a-971f-b282d6992760"
      },
      "execution_count": null,
      "outputs": [
        {
          "output_type": "stream",
          "name": "stdout",
          "text": [
            "Top 10 recommended impressions for user U13740 : [2, 3, 4, 5, 6, 7, 8, 9, 10, 11]\n"
          ]
        }
      ]
    },
    {
      "cell_type": "code",
      "source": [
        "from sklearn.preprocessing import LabelEncoder\n",
        "\n",
        "# Initialize LabelEncoder\n",
        "label_encoder = LabelEncoder()\n",
        "\n",
        "# Fit and transform the News_ID column\n",
        "news_df['Encoded_News_ID'] = label_encoder.fit_transform(news_df['News_ID'])\n",
        "\n",
        "# Print the encoded news IDs\n",
        "print(news_df[['News_ID', 'Encoded_News_ID']])\n"
      ],
      "metadata": {
        "colab": {
          "base_uri": "https://localhost:8080/"
        },
        "id": "QnyY5Y34izf4",
        "outputId": "530137c1-656c-46f1-b763-3972f0aca03c"
      },
      "execution_count": null,
      "outputs": [
        {
          "output_type": "stream",
          "name": "stdout",
          "text": [
            "      News_ID  Encoded_News_ID\n",
            "0      N55528            10749\n",
            "1      N19639             2300\n",
            "2      N61837            12256\n",
            "3      N53526            10271\n",
            "4      N38324             6770\n",
            "...       ...              ...\n",
            "13869  N58119            11350\n",
            "13870  N26928             4068\n",
            "13871  N51841             9881\n",
            "13872  N37632             6593\n",
            "13873  N43654             8004\n",
            "\n",
            "[13874 rows x 2 columns]\n"
          ]
        }
      ]
    },
    {
      "cell_type": "code",
      "source": [
        "def get_news_details(impression_ids):\n",
        "    news_details = []\n",
        "    for impression_id in impression_ids:\n",
        "        # Find the corresponding news article based on impression ID\n",
        "        news_article = news_df.loc[news_df['Encoded_News_ID'] == impression_id]\n",
        "        if not news_article.empty:\n",
        "            # Extract relevant information\n",
        "            news_title = news_article['Title'].values[0]\n",
        "            news_category = news_article['Category'].values[0]\n",
        "            news_abstract = news_article['Abstract'].values[0]\n",
        "            news_url = news_article['URL'].values[0]\n",
        "            # Append news details to the list\n",
        "            news_details.append({'Impression_ID': impression_id,\n",
        "                                 'Title': news_title,\n",
        "                                 'Category': news_category,\n",
        "                                 'Abstract': news_abstract,\n",
        "                                 'URL': news_url})\n",
        "            # Print the statement for the recommended news\n",
        "            print(\"The recommended news for the impression \" + str(impression_id) + \" is:\")\n",
        "            print(\"Title:\", news_title)\n",
        "            print(\"Category:\", news_category)\n",
        "            print(\"Abstract:\", news_abstract)\n",
        "            print(\"URL:\", news_url)\n",
        "            print()  # Print an empty line for readability\n",
        "        else:\n",
        "            print(f\"No news article found for impression ID: {impression_id}\")\n",
        "    return news_details\n"
      ],
      "metadata": {
        "id": "DbFfFq8yakD_"
      },
      "execution_count": null,
      "outputs": []
    },
    {
      "cell_type": "code",
      "source": [
        "get_news_details( [2, 3, 4, 5, 6, 7, 8, 9, 10, 11])"
      ],
      "metadata": {
        "colab": {
          "base_uri": "https://localhost:8080/"
        },
        "id": "CCHv82MMaymJ",
        "outputId": "ed1ce0b8-e519-42f4-da82-2a8bd83c901d"
      },
      "execution_count": null,
      "outputs": [
        {
          "output_type": "stream",
          "name": "stdout",
          "text": [
            "The recommended news for the impression 2 is:\n",
            "Title: The one and only Chevy eCOPO Camaro electric drag-racer is for sale\n",
            "Category: autos\n",
            "Abstract: After serving its life as a development vehicle, the eCOPO is off to find a new home.\n",
            "URL: https://assets.msn.com/labs/mind/AAFI2kD.html\n",
            "\n",
            "The recommended news for the impression 3 is:\n",
            "Title: Eagles vs. Cowboys: Second quarter open thread\n",
            "Category: sports\n",
            "Abstract: After the first quarter, the Eagles trail the Cowboys by a score of 14 to 7.\n",
            "URL: https://assets.msn.com/labs/mind/AAJ5bMr.html\n",
            "\n",
            "The recommended news for the impression 4 is:\n",
            "Title: Bicyclist dies after being hit by vehicle in Brookline\n",
            "Category: news\n",
            "Abstract: A bicyclist who was hit by a vehicle Sunday in Brookline has died as a result of his wounds, police said Monday. The bicyclist was struck by a vehicle after 9:15 p.m. at Brookline Boulevard and Pioneer Avenue. The bicyclist, a male, was unconscious when first responders arrived and was taken to UPMC Mercy hospital in critical condition. Police said the driver of the vehicle did not a have a license and was detained at the scene. This story will...\n",
            "URL: https://assets.msn.com/labs/mind/AAJ75Ak.html\n",
            "\n",
            "The recommended news for the impression 5 is:\n",
            "Title: More than 200 fans camp out at The Banks for Twenty One Pilots concert tickets\n",
            "Category: music\n",
            "Abstract: Columbus music group Twenty One Pilots is in town and some super fans are camping out at The Banks waiting to snag tickets to Tuesday night's concert. About 200 faithful fans are camping out in sleeping bags on Broadway Street, braving temperatures in the 50s. Fans said they are traveling to different cities to see the band bring people together. \"I think this is my seventh show and I am going to have my eighth show in Denver Colorado,\" Brenna...\n",
            "URL: https://assets.msn.com/labs/mind/AAJafxo.html\n",
            "\n",
            "The recommended news for the impression 6 is:\n",
            "Title: The 'little cow' of the sea nears extinction\n",
            "Category: lifestyle\n",
            "Abstract: In the Gulf of California, fewer than 19 vaquitas are left. What can conservationists learn before the species dies out completely?\n",
            "URL: https://assets.msn.com/labs/mind/AAHqj9h.html\n",
            "\n",
            "The recommended news for the impression 7 is:\n",
            "Title: HTC now has an entry-level blockchain phone\n",
            "Category: news\n",
            "Abstract: The Exodus 1S is available to order now, but not in the US\n",
            "URL: https://assets.msn.com/labs/mind/AAJ6MdR.html\n",
            "\n",
            "The recommended news for the impression 8 is:\n",
            "Title: Michael Moore joining AOC at Bernie Sanders rally in NYC to announce endorsement\n",
            "Category: news\n",
            "Abstract: Liberal filmmaker Michael Moore announced Friday that he will be joining Rep. Alexandria Ocasio-Cortez, D-N.Y., at a rally in New York City on Saturday for 2020 Democratic presidential candidate Sen. Bernie Sanders.\n",
            "URL: https://assets.msn.com/labs/mind/AAJ1ma9.html\n",
            "\n",
            "The recommended news for the impression 9 is:\n",
            "Title: PGA Of America Breaks Ground On New Headquarters In Frisco\n",
            "Category: news\n",
            "Abstract: The $500 million project will occupy 600 acres near Highway 380 and the Dallas North Tollway in Frisco.\n",
            "URL: https://assets.msn.com/labs/mind/AAIZ0pk.html\n",
            "\n",
            "The recommended news for the impression 10 is:\n",
            "Title: 'Be Kind! Just Try It! I Will!': 98-Year-Old Leads Glenwood, Minn., Kindness Movement\n",
            "Category: news\n",
            "Abstract: It started as a way to counteract things going wrong: A small-town movement to be kind to everyone. Now, it's the goal of young and old in the city of Glenwood, near Alexandria. The movement is led by 98-year-old Margaret Pederson.\n",
            "URL: https://assets.msn.com/labs/mind/AAJQN3i.html\n",
            "\n",
            "The recommended news for the impression 11 is:\n",
            "Title: Coca-Cola's quarterly sales tops Wall Street expectations\n",
            "Category: finance\n",
            "Abstract: Coca-Cola's quarterly sales tops Wall Street expectations.\n",
            "URL: https://assets.msn.com/labs/mind/AAIYQwq.html\n",
            "\n"
          ]
        },
        {
          "output_type": "execute_result",
          "data": {
            "text/plain": [
              "[{'Impression_ID': 2,\n",
              "  'Title': 'The one and only Chevy eCOPO Camaro electric drag-racer is for sale',\n",
              "  'Category': 'autos',\n",
              "  'Abstract': 'After serving its life as a development vehicle, the eCOPO is off to find a new home.',\n",
              "  'URL': 'https://assets.msn.com/labs/mind/AAFI2kD.html'},\n",
              " {'Impression_ID': 3,\n",
              "  'Title': 'Eagles vs. Cowboys: Second quarter open thread',\n",
              "  'Category': 'sports',\n",
              "  'Abstract': 'After the first quarter, the Eagles trail the Cowboys by a score of 14 to 7.',\n",
              "  'URL': 'https://assets.msn.com/labs/mind/AAJ5bMr.html'},\n",
              " {'Impression_ID': 4,\n",
              "  'Title': 'Bicyclist dies after being hit by vehicle in Brookline',\n",
              "  'Category': 'news',\n",
              "  'Abstract': 'A bicyclist who was hit by a vehicle Sunday in Brookline has died as a result of his wounds, police said Monday. The bicyclist was struck by a vehicle after 9:15 p.m. at Brookline Boulevard and Pioneer Avenue. The bicyclist, a male, was unconscious when first responders arrived and was taken to UPMC Mercy hospital in critical condition. Police said the driver of the vehicle did not a have a license and was detained at the scene. This story will...',\n",
              "  'URL': 'https://assets.msn.com/labs/mind/AAJ75Ak.html'},\n",
              " {'Impression_ID': 5,\n",
              "  'Title': 'More than 200 fans camp out at The Banks for Twenty One Pilots concert tickets',\n",
              "  'Category': 'music',\n",
              "  'Abstract': 'Columbus music group Twenty One Pilots is in town and some super fans are camping out at The Banks waiting to snag tickets to Tuesday night\\'s concert. About 200 faithful fans are camping out in sleeping bags on Broadway Street, braving temperatures in the 50s. Fans said they are traveling to different cities to see the band bring people together. \"I think this is my seventh show and I am going to have my eighth show in Denver Colorado,\" Brenna...',\n",
              "  'URL': 'https://assets.msn.com/labs/mind/AAJafxo.html'},\n",
              " {'Impression_ID': 6,\n",
              "  'Title': \"The 'little cow' of the sea nears extinction\",\n",
              "  'Category': 'lifestyle',\n",
              "  'Abstract': 'In the Gulf of California, fewer than 19 vaquitas are left. What can conservationists learn before the species dies out completely?',\n",
              "  'URL': 'https://assets.msn.com/labs/mind/AAHqj9h.html'},\n",
              " {'Impression_ID': 7,\n",
              "  'Title': 'HTC now has an entry-level blockchain phone',\n",
              "  'Category': 'news',\n",
              "  'Abstract': 'The Exodus 1S is available to order now, but not in the US',\n",
              "  'URL': 'https://assets.msn.com/labs/mind/AAJ6MdR.html'},\n",
              " {'Impression_ID': 8,\n",
              "  'Title': 'Michael Moore joining AOC at Bernie Sanders rally in NYC to announce endorsement',\n",
              "  'Category': 'news',\n",
              "  'Abstract': 'Liberal filmmaker Michael Moore announced Friday that he will be joining Rep. Alexandria Ocasio-Cortez, D-N.Y., at a rally in New York City on Saturday for 2020 Democratic presidential candidate Sen. Bernie Sanders.',\n",
              "  'URL': 'https://assets.msn.com/labs/mind/AAJ1ma9.html'},\n",
              " {'Impression_ID': 9,\n",
              "  'Title': 'PGA Of America Breaks Ground On New Headquarters In Frisco',\n",
              "  'Category': 'news',\n",
              "  'Abstract': 'The $500 million project will occupy 600 acres near Highway 380 and the Dallas North Tollway in Frisco.',\n",
              "  'URL': 'https://assets.msn.com/labs/mind/AAIZ0pk.html'},\n",
              " {'Impression_ID': 10,\n",
              "  'Title': \"'Be Kind! Just Try It! I Will!': 98-Year-Old Leads Glenwood, Minn., Kindness Movement\",\n",
              "  'Category': 'news',\n",
              "  'Abstract': \"It started as a way to counteract things going wrong: A small-town movement to be kind to everyone. Now, it's the goal of young and old in the city of Glenwood, near Alexandria. The movement is led by 98-year-old Margaret Pederson.\",\n",
              "  'URL': 'https://assets.msn.com/labs/mind/AAJQN3i.html'},\n",
              " {'Impression_ID': 11,\n",
              "  'Title': \"Coca-Cola's quarterly sales tops Wall Street expectations\",\n",
              "  'Category': 'finance',\n",
              "  'Abstract': \"Coca-Cola's quarterly sales tops Wall Street expectations.\",\n",
              "  'URL': 'https://assets.msn.com/labs/mind/AAIYQwq.html'}]"
            ]
          },
          "metadata": {},
          "execution_count": 17
        }
      ]
    },
    {
      "cell_type": "markdown",
      "source": [
        "Example2"
      ],
      "metadata": {
        "id": "lJkj3W7YPSun"
      }
    },
    {
      "cell_type": "code",
      "source": [
        "user_id_1 = 'U12957'\n",
        "items_already_rated_by_user = behaviors_df[behaviors_df['User_ID'] == user_id_1]['Impression_ID'].tolist()"
      ],
      "metadata": {
        "id": "PN-J0Cz3OCO_"
      },
      "execution_count": null,
      "outputs": []
    },
    {
      "cell_type": "code",
      "source": [
        "all_impression_ids = behaviors_df['Impression_ID'].unique()\n",
        "impressions_to_predict = [impression_id for impression_id in all_impression_ids if impression_id not in items_already_rated_by_user]\n",
        "user_predictions = [model.predict(user_id_1, impression_id) for impression_id in impressions_to_predict]\n",
        "user_predictions.sort(key=lambda x: x.est, reverse=True)\n",
        "top_n = 10\n",
        "recommended_impression_ids = [prediction.iid for prediction in user_predictions[:top_n]]\n",
        "print(\"Top\", top_n, \"recommended impressions for user\", user_id_1, \":\", recommended_impression_ids)"
      ],
      "metadata": {
        "colab": {
          "base_uri": "https://localhost:8080/"
        },
        "outputId": "56e10d79-67ca-4764-fad7-542eaf6ab172",
        "id": "oq-kRHkZOCPA"
      },
      "execution_count": null,
      "outputs": [
        {
          "output_type": "stream",
          "name": "stdout",
          "text": [
            "Top 10 recommended impressions for user U12957 : [1, 2, 3, 4, 5, 6, 7, 8, 9, 10]\n"
          ]
        }
      ]
    },
    {
      "cell_type": "code",
      "source": [
        "get_news_details( [1, 2, 3, 4, 5, 6, 7, 8, 9, 10])"
      ],
      "metadata": {
        "colab": {
          "base_uri": "https://localhost:8080/"
        },
        "id": "6xw4CvNCN1pu",
        "outputId": "3486491c-ae84-407d-afd1-27bc8e13d4a5"
      },
      "execution_count": null,
      "outputs": [
        {
          "output_type": "stream",
          "name": "stdout",
          "text": [
            "The recommended news for the impression 1 is:\n",
            "Title: Parents capture boy's stunned reaction to becoming a big brother\n",
            "Category: video\n",
            "Abstract: Sometimes the best gifts are those you're least expecting, especially for this young boy whose parents surprised him with a book titled \"Being a Big Brother.\" It took him a few seconds to let it all sink in, but the reaction was priceless.\n",
            "URL: https://assets.msn.com/labs/mind/AAIoP4y.html\n",
            "\n",
            "The recommended news for the impression 2 is:\n",
            "Title: The one and only Chevy eCOPO Camaro electric drag-racer is for sale\n",
            "Category: autos\n",
            "Abstract: After serving its life as a development vehicle, the eCOPO is off to find a new home.\n",
            "URL: https://assets.msn.com/labs/mind/AAFI2kD.html\n",
            "\n",
            "The recommended news for the impression 3 is:\n",
            "Title: Eagles vs. Cowboys: Second quarter open thread\n",
            "Category: sports\n",
            "Abstract: After the first quarter, the Eagles trail the Cowboys by a score of 14 to 7.\n",
            "URL: https://assets.msn.com/labs/mind/AAJ5bMr.html\n",
            "\n",
            "The recommended news for the impression 4 is:\n",
            "Title: Bicyclist dies after being hit by vehicle in Brookline\n",
            "Category: news\n",
            "Abstract: A bicyclist who was hit by a vehicle Sunday in Brookline has died as a result of his wounds, police said Monday. The bicyclist was struck by a vehicle after 9:15 p.m. at Brookline Boulevard and Pioneer Avenue. The bicyclist, a male, was unconscious when first responders arrived and was taken to UPMC Mercy hospital in critical condition. Police said the driver of the vehicle did not a have a license and was detained at the scene. This story will...\n",
            "URL: https://assets.msn.com/labs/mind/AAJ75Ak.html\n",
            "\n",
            "The recommended news for the impression 5 is:\n",
            "Title: More than 200 fans camp out at The Banks for Twenty One Pilots concert tickets\n",
            "Category: music\n",
            "Abstract: Columbus music group Twenty One Pilots is in town and some super fans are camping out at The Banks waiting to snag tickets to Tuesday night's concert. About 200 faithful fans are camping out in sleeping bags on Broadway Street, braving temperatures in the 50s. Fans said they are traveling to different cities to see the band bring people together. \"I think this is my seventh show and I am going to have my eighth show in Denver Colorado,\" Brenna...\n",
            "URL: https://assets.msn.com/labs/mind/AAJafxo.html\n",
            "\n",
            "The recommended news for the impression 6 is:\n",
            "Title: The 'little cow' of the sea nears extinction\n",
            "Category: lifestyle\n",
            "Abstract: In the Gulf of California, fewer than 19 vaquitas are left. What can conservationists learn before the species dies out completely?\n",
            "URL: https://assets.msn.com/labs/mind/AAHqj9h.html\n",
            "\n",
            "The recommended news for the impression 7 is:\n",
            "Title: HTC now has an entry-level blockchain phone\n",
            "Category: news\n",
            "Abstract: The Exodus 1S is available to order now, but not in the US\n",
            "URL: https://assets.msn.com/labs/mind/AAJ6MdR.html\n",
            "\n",
            "The recommended news for the impression 8 is:\n",
            "Title: Michael Moore joining AOC at Bernie Sanders rally in NYC to announce endorsement\n",
            "Category: news\n",
            "Abstract: Liberal filmmaker Michael Moore announced Friday that he will be joining Rep. Alexandria Ocasio-Cortez, D-N.Y., at a rally in New York City on Saturday for 2020 Democratic presidential candidate Sen. Bernie Sanders.\n",
            "URL: https://assets.msn.com/labs/mind/AAJ1ma9.html\n",
            "\n",
            "The recommended news for the impression 9 is:\n",
            "Title: PGA Of America Breaks Ground On New Headquarters In Frisco\n",
            "Category: news\n",
            "Abstract: The $500 million project will occupy 600 acres near Highway 380 and the Dallas North Tollway in Frisco.\n",
            "URL: https://assets.msn.com/labs/mind/AAIZ0pk.html\n",
            "\n",
            "The recommended news for the impression 10 is:\n",
            "Title: 'Be Kind! Just Try It! I Will!': 98-Year-Old Leads Glenwood, Minn., Kindness Movement\n",
            "Category: news\n",
            "Abstract: It started as a way to counteract things going wrong: A small-town movement to be kind to everyone. Now, it's the goal of young and old in the city of Glenwood, near Alexandria. The movement is led by 98-year-old Margaret Pederson.\n",
            "URL: https://assets.msn.com/labs/mind/AAJQN3i.html\n",
            "\n"
          ]
        },
        {
          "output_type": "execute_result",
          "data": {
            "text/plain": [
              "[{'Impression_ID': 1,\n",
              "  'Title': \"Parents capture boy's stunned reaction to becoming a big brother\",\n",
              "  'Category': 'video',\n",
              "  'Abstract': 'Sometimes the best gifts are those you\\'re least expecting, especially for this young boy whose parents surprised him with a book titled \"Being a Big Brother.\" It took him a few seconds to let it all sink in, but the reaction was priceless.',\n",
              "  'URL': 'https://assets.msn.com/labs/mind/AAIoP4y.html'},\n",
              " {'Impression_ID': 2,\n",
              "  'Title': 'The one and only Chevy eCOPO Camaro electric drag-racer is for sale',\n",
              "  'Category': 'autos',\n",
              "  'Abstract': 'After serving its life as a development vehicle, the eCOPO is off to find a new home.',\n",
              "  'URL': 'https://assets.msn.com/labs/mind/AAFI2kD.html'},\n",
              " {'Impression_ID': 3,\n",
              "  'Title': 'Eagles vs. Cowboys: Second quarter open thread',\n",
              "  'Category': 'sports',\n",
              "  'Abstract': 'After the first quarter, the Eagles trail the Cowboys by a score of 14 to 7.',\n",
              "  'URL': 'https://assets.msn.com/labs/mind/AAJ5bMr.html'},\n",
              " {'Impression_ID': 4,\n",
              "  'Title': 'Bicyclist dies after being hit by vehicle in Brookline',\n",
              "  'Category': 'news',\n",
              "  'Abstract': 'A bicyclist who was hit by a vehicle Sunday in Brookline has died as a result of his wounds, police said Monday. The bicyclist was struck by a vehicle after 9:15 p.m. at Brookline Boulevard and Pioneer Avenue. The bicyclist, a male, was unconscious when first responders arrived and was taken to UPMC Mercy hospital in critical condition. Police said the driver of the vehicle did not a have a license and was detained at the scene. This story will...',\n",
              "  'URL': 'https://assets.msn.com/labs/mind/AAJ75Ak.html'},\n",
              " {'Impression_ID': 5,\n",
              "  'Title': 'More than 200 fans camp out at The Banks for Twenty One Pilots concert tickets',\n",
              "  'Category': 'music',\n",
              "  'Abstract': 'Columbus music group Twenty One Pilots is in town and some super fans are camping out at The Banks waiting to snag tickets to Tuesday night\\'s concert. About 200 faithful fans are camping out in sleeping bags on Broadway Street, braving temperatures in the 50s. Fans said they are traveling to different cities to see the band bring people together. \"I think this is my seventh show and I am going to have my eighth show in Denver Colorado,\" Brenna...',\n",
              "  'URL': 'https://assets.msn.com/labs/mind/AAJafxo.html'},\n",
              " {'Impression_ID': 6,\n",
              "  'Title': \"The 'little cow' of the sea nears extinction\",\n",
              "  'Category': 'lifestyle',\n",
              "  'Abstract': 'In the Gulf of California, fewer than 19 vaquitas are left. What can conservationists learn before the species dies out completely?',\n",
              "  'URL': 'https://assets.msn.com/labs/mind/AAHqj9h.html'},\n",
              " {'Impression_ID': 7,\n",
              "  'Title': 'HTC now has an entry-level blockchain phone',\n",
              "  'Category': 'news',\n",
              "  'Abstract': 'The Exodus 1S is available to order now, but not in the US',\n",
              "  'URL': 'https://assets.msn.com/labs/mind/AAJ6MdR.html'},\n",
              " {'Impression_ID': 8,\n",
              "  'Title': 'Michael Moore joining AOC at Bernie Sanders rally in NYC to announce endorsement',\n",
              "  'Category': 'news',\n",
              "  'Abstract': 'Liberal filmmaker Michael Moore announced Friday that he will be joining Rep. Alexandria Ocasio-Cortez, D-N.Y., at a rally in New York City on Saturday for 2020 Democratic presidential candidate Sen. Bernie Sanders.',\n",
              "  'URL': 'https://assets.msn.com/labs/mind/AAJ1ma9.html'},\n",
              " {'Impression_ID': 9,\n",
              "  'Title': 'PGA Of America Breaks Ground On New Headquarters In Frisco',\n",
              "  'Category': 'news',\n",
              "  'Abstract': 'The $500 million project will occupy 600 acres near Highway 380 and the Dallas North Tollway in Frisco.',\n",
              "  'URL': 'https://assets.msn.com/labs/mind/AAIZ0pk.html'},\n",
              " {'Impression_ID': 10,\n",
              "  'Title': \"'Be Kind! Just Try It! I Will!': 98-Year-Old Leads Glenwood, Minn., Kindness Movement\",\n",
              "  'Category': 'news',\n",
              "  'Abstract': \"It started as a way to counteract things going wrong: A small-town movement to be kind to everyone. Now, it's the goal of young and old in the city of Glenwood, near Alexandria. The movement is led by 98-year-old Margaret Pederson.\",\n",
              "  'URL': 'https://assets.msn.com/labs/mind/AAJQN3i.html'}]"
            ]
          },
          "metadata": {},
          "execution_count": 37
        }
      ]
    }
  ]
}