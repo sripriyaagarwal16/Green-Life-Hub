{
  "nbformat": 4,
  "nbformat_minor": 0,
  "metadata": {
    "colab": {
      "provenance": [],
      "include_colab_link": true
    },
    "kernelspec": {
      "name": "python3",
      "display_name": "Python 3"
    },
    "language_info": {
      "name": "python"
    }
  },
  "cells": [
    {
      "cell_type": "markdown",
      "metadata": {
        "id": "view-in-github",
        "colab_type": "text"
      },
      "source": [
        "<a href=\"https://colab.research.google.com/github/sripriyaagarwal16/Green-Life-Hub/blob/main/Foodresources.ipynb\" target=\"_parent\"><img src=\"https://colab.research.google.com/assets/colab-badge.svg\" alt=\"Open In Colab\"/></a>"
      ]
    },
    {
      "cell_type": "code",
      "execution_count": null,
      "metadata": {
        "colab": {
          "base_uri": "https://localhost:8080/",
          "height": 521
        },
        "id": "e6u83fMUAfa3",
        "outputId": "24d745f5-0036-4fca-fec5-f845ae8e6d99"
      },
      "outputs": [
        {
          "output_type": "display_data",
          "data": {
            "text/plain": [
              "<Figure size 800x600 with 1 Axes>"
            ],
            "image/png": "[encoded data removed]"
          },
          "metadata": {}
        }
      ],
      "source": [
        "import pandas as pd\n",
        "import numpy as np\n",
        "import pandas as pd\n",
        "from sklearn.ensemble import RandomForestClassifier\n",
        "import matplotlib.pyplot as plt\n",
        "from sklearn.ensemble import RandomForestClassifier\n",
        "\n",
        "# Generate a dataset with 50 food items\n",
        "np.random.seed(0)  # For reproducibility\n",
        "\n",
        "# Generate random expiration dates within a range of 30 days from today\n",
        "expiration_dates = pd.date_range(start=pd.Timestamp.today(), periods=50, freq='D')\n",
        "\n",
        "# Generate random values for whether each item is wasted or not (0 or 1)\n",
        "wasted = np.random.randint(0, 2, size=50)\n",
        "\n",
        "# Create a DataFrame to store the data\n",
        "data = {\n",
        "    'Item': [f'Item_{i}' for i in range(1, 51)],\n",
        "    'Expiration_Date': expiration_dates,\n",
        "    'Wasted': wasted\n",
        "}\n",
        "\n",
        "df = pd.DataFrame(data)\n",
        "\n",
        "# Convert expiration date to numerical value (days remaining until expiration)\n",
        "df['Days_Until_Expiry'] = (df['Expiration_Date'] - pd.Timestamp.today()).dt.days\n",
        "\n",
        "# Prepare features and target variable\n",
        "X = df[['Days_Until_Expiry']]\n",
        "y = df['Wasted']\n",
        "\n",
        "# Train a simple Random Forest Classifier\n",
        "model = RandomForestClassifier(random_state=42)\n",
        "model.fit(X, y)\n",
        "df['Prediction'] = model.predict(X)\n",
        "\n",
        "# Count the number of wasted and not wasted items\n",
        "wasted_count = df['Wasted'].sum()\n",
        "not_wasted_count = len(df) - wasted_count\n",
        "\n",
        "# Plotting a pie chart\n",
        "labels = ['Wasted', 'Not Wasted']\n",
        "sizes = [wasted_count, not_wasted_count]\n",
        "colors = ['red', 'blue']\n",
        "\n",
        "plt.figure(figsize=(8, 6))\n",
        "plt.pie(sizes, labels=labels, colors=colors, autopct='%1.1f%%', startangle=140)\n",
        "plt.title('Percentage of Wasted and Not Wasted Items')\n",
        "plt.axis('equal')  # Equal aspect ratio ensures that pie is drawn as a circle.\n",
        "plt.show()\n",
        "\n",
        "# Display the DataFrame\n",
        "##print(df)\n"
      ]
    },
    {
      "cell_type": "code",
      "source": [
        "import pandas as pd\n",
        "from sklearn.ensemble import RandomForestClassifier\n",
        "import matplotlib.pyplot as plt\n",
        "\n",
        "# Sample data representing food items and their expiration status\n",
        "data = {\n",
        "    'Item': [f'Item_{i}' for i in range(1, 51)],\n",
        "    'Expiration_Date': expiration_dates,\n",
        "    'Wasted': wasted  # 1 indicates wasted, 0 indicates not wasted\n",
        "}\n",
        "\n",
        "df = pd.DataFrame(data)\n",
        "\n",
        "# Convert expiration date to numerical value (days remaining until expiration)\n",
        "df['Days_Until_Expiry'] = (df['Expiration_Date'] - pd.Timestamp.today()).dt.days\n",
        "\n",
        "# Prepare features and target variable\n",
        "X = df[['Days_Until_Expiry']]\n",
        "y = df['Wasted']\n",
        "\n",
        "# Train a simple Random Forest Classifier\n",
        "model = RandomForestClassifier(random_state=42)\n",
        "model.fit(X, y)\n",
        "\n",
        "# Predict on the entire dataset\n",
        "df['Prediction'] = model.predict(X)\n",
        "\n",
        "# Count the number of wasted and not wasted items before implementing tips\n",
        "wasted_count_before = df['Wasted'].sum()\n",
        "\n",
        "# Tips for reducing food wastage\n",
        "# You can modify or expand this list with more tips\n",
        "tips = [\n",
        "    \"Plan your meals and make a shopping list to avoid buying unnecessary items.\",\n",
        "    \"Store perishable items properly to prolong their freshness.\",\n",
        "    \"Use leftovers creatively to make new dishes.\",\n",
        "    \"Check your fridge and pantry regularly to use items before they expire.\",\n",
        "    \"Donate excess food to local food banks or shelters.\",\n",
        "]\n",
        "\n",
        "print(\"\\nTips for reducing food wastage:\")\n",
        "for tip in tips:\n",
        "    print(\"-\", tip)\n",
        "\n",
        "# Implementing tips (for demonstration, we assume implementing all tips reduces wastage by 20%)\n",
        "wasted_count_after = int(wasted_count_before * 0.8)\n",
        "\n",
        "# Plotting a comparison of wastage before and after implementing tips\n",
        "labels = ['Before Tips', 'After Tips']\n",
        "sizes = [wasted_count_before, wasted_count_after]\n",
        "colors = ['red', 'green']\n",
        "\n",
        "plt.figure(figsize=(8, 6))\n",
        "plt.bar(labels, sizes, color=colors)\n",
        "plt.title('Comparison of Wastage Before and After Implementing Tips')\n",
        "plt.ylabel('Number of Wasted Items')\n",
        "plt.show()\n"
      ],
      "metadata": {
        "colab": {
          "base_uri": "https://localhost:8080/",
          "height": 667
        },
        "id": "xrqqUQ2gFJfc",
        "outputId": "4133e79b-4f9c-4b87-dd85-c54a2145513f"
      },
      "execution_count": null,
      "outputs": [
        {
          "output_type": "stream",
          "name": "stdout",
          "text": [
            "\n",
            "Tips for reducing food wastage:\n",
            "- Plan your meals and make a shopping list to avoid buying unnecessary items.\n",
            "- Store perishable items properly to prolong their freshness.\n",
            "- Use leftovers creatively to make new dishes.\n",
            "- Check your fridge and pantry regularly to use items before they expire.\n",
            "- Donate excess food to local food banks or shelters.\n"
          ]
        },
        {
          "output_type": "display_data",
          "data": {
            "text/plain": [
              "<Figure size 800x600 with 1 Axes>"
            ],
            "image/png": "[encoded data removed]"
          },
          "metadata": {}
        }
      ]
    },
    {
      "cell_type": "code",
      "source": [
        "import matplotlib.pyplot as plt\n",
        "import pandas as pd\n",
        "from sklearn.ensemble import RandomForestClassifier\n",
        "from matplotlib.animation import FuncAnimation\n",
        "import matplotlib\n",
        "\n",
        "# Set backend using rcParams\n",
        "matplotlib.rcParams['backend'] = 'TkAgg'\n",
        "\n",
        "# Sample data representing food items and their expiration status\n",
        "data = {\n",
        "    'Item': [f'Item_{i}' for i in range(1, 51)],\n",
        "    'Expiration_Date': expiration_dates,\n",
        "    'Wasted': wasted  # 1 indicates wasted, 0 indicates not wasted\n",
        "}\n",
        "\n",
        "df = pd.DataFrame(data)\n",
        "\n",
        "# Convert expiration date to numerical value (days remaining until expiration)\n",
        "df['Days_Until_Expiry'] = (df['Expiration_Date'] - pd.Timestamp.today()).dt.days\n",
        "\n",
        "# Prepare features and target variable\n",
        "X = df[['Days_Until_Expiry']]\n",
        "y = df['Wasted']\n",
        "\n",
        "# Train a simple Random Forest Classifier\n",
        "model = RandomForestClassifier(random_state=42)\n",
        "model.fit(X, y)\n",
        "\n",
        "# Predict on the entire dataset\n",
        "df['Prediction'] = model.predict(X)\n",
        "\n",
        "# Count the number of wasted and not wasted items before implementing tips\n",
        "wasted_count_before = df['Wasted'].sum()\n",
        "\n",
        "# Implementing tips (for demonstration, we assume implementing all tips reduces wastage by 20%)\n",
        "wasted_count_after = int(wasted_count_before * 0.8)\n",
        "\n",
        "# Create a function to update the graph for each frame of the animation\n",
        "def update(frame):\n",
        "    plt.cla()\n",
        "    labels = ['Wastage Before Tips', 'Wastage After Tips']\n",
        "    sizes = [wasted_count_before, wasted_count_after]\n",
        "    colors = ['crimson', 'limegreen']\n",
        "    plt.barh(labels, sizes, color=colors)\n",
        "    plt.title('Comparison of Wastage Before and After Implementing Tips', fontsize=16, pad=20)\n",
        "    plt.xlabel('Number of Wasted Items', fontsize=14)\n",
        "    plt.xticks(fontsize=12)\n",
        "    plt.yticks(fontsize=12)\n",
        "    plt.gca().invert_yaxis()  # Invert y-axis for better visualization\n",
        "    plt.grid(axis='x', linestyle='--', alpha=0.7)\n",
        "\n",
        "# Enable interactive mode\n",
        "plt.ion()\n",
        "\n",
        "# Create the animation\n",
        "fig = plt.figure(figsize=(10, 6))\n",
        "ani = FuncAnimation(fig, update, frames=range(2), repeat=False)\n",
        "\n",
        "plt.tight_layout()\n",
        "plt.show()\n",
        "\n"
      ],
      "metadata": {
        "colab": {
          "base_uri": "https://localhost:8080/",
          "height": 89
        },
        "id": "fM_bBpdFHWVJ",
        "outputId": "2c283494-b0d3-43e0-e959-a8f12fea383b"
      },
      "execution_count": null,
      "outputs": [
        {
          "output_type": "display_data",
          "data": {
            "text/plain": [
              "<Figure size 1000x600 with 0 Axes>"
            ]
          },
          "metadata": {}
        },
        {
          "output_type": "stream",
          "name": "stderr",
          "text": [
            "/usr/local/lib/python3.10/dist-packages/matplotlib/animation.py:884: UserWarning: Animation was deleted without rendering anything. This is most likely not intended. To prevent deletion, assign the Animation to a variable, e.g. `anim`, that exists until you output the Animation using `plt.show()` or `anim.save()`.\n",
            "  warnings.warn(\n"
          ]
        }
      ]
    },
    {
      "cell_type": "code",
      "source": [
        "import matplotlib.pyplot as plt\n",
        "import pandas as pd\n",
        "from sklearn.ensemble import RandomForestClassifier\n",
        "from matplotlib.animation import FuncAnimation\n",
        "import matplotlib\n",
        "\n",
        "# Set backend using rcParams\n",
        "matplotlib.rcParams['backend'] = 'TkAgg'\n",
        "\n",
        "# Sample data representing food items and their expiration status\n",
        "data = {\n",
        "    'Item': [f'Item_{i}' for i in range(1, 51)],\n",
        "    'Expiration_Date': expiration_dates,\n",
        "    'Wasted': wasted  # 1 indicates wasted, 0 indicates not wasted\n",
        "}\n",
        "\n",
        "df = pd.DataFrame(data)\n",
        "\n",
        "# Convert expiration date to numerical value (days remaining until expiration)\n",
        "df['Days_Until_Expiry'] = (df['Expiration_Date'] - pd.Timestamp.today()).dt.days\n",
        "\n",
        "# Prepare features and target variable\n",
        "X = df[['Days_Until_Expiry']]\n",
        "y = df['Wasted']\n",
        "\n",
        "# Train a simple Random Forest Classifier\n",
        "model = RandomForestClassifier(random_state=42)\n",
        "model.fit(X, y)\n",
        "\n",
        "# Predict on the entire dataset\n",
        "df['Prediction'] = model.predict(X)\n",
        "\n",
        "# Count the number of wasted and not wasted items before implementing tips\n",
        "wasted_count_before = df['Wasted'].sum()\n",
        "\n",
        "# Implementing tips (for demonstration, we assume implementing all tips reduces wastage by 20%)\n",
        "wasted_count_after = int(wasted_count_before * 0.8)\n",
        "\n",
        "# Create a function to update the graph for each frame of the animation\n",
        "def update(frame):\n",
        "    plt.cla()\n",
        "    labels = ['Wastage Before Tips', 'Wastage After Tips']\n",
        "    sizes = [wasted_count_before, wasted_count_after]\n",
        "    colors = ['crimson', 'limegreen']\n",
        "    plt.barh(labels, sizes, color=colors)\n",
        "    plt.title('Comparison of Wastage Before and After Implementing Tips', fontsize=16, pad=20)\n",
        "    plt.xlabel('Number of Wasted Items', fontsize=14)\n",
        "    plt.xticks(fontsize=12)\n",
        "    plt.yticks(fontsize=12)\n",
        "    plt.gca().invert_yaxis()  # Invert y-axis for better visualization\n",
        "    plt.grid(axis='x', linestyle='--', alpha=0.7)\n",
        "\n",
        "# Enable interactive mode\n",
        "plt.ion()\n",
        "\n",
        "# Create the animation\n",
        "fig = plt.figure(figsize=(10, 6))\n",
        "ani = FuncAnimation(fig, update, frames=range(2), repeat=False)\n",
        "\n",
        "# Show the animation\n",
        "plt.show()\n",
        "\n"
      ],
      "metadata": {
        "colab": {
          "base_uri": "https://localhost:8080/",
          "height": 34
        },
        "id": "gWhMojSNHr9D",
        "outputId": "d7e11963-fb3e-49b2-e22f-1476cc155e5a"
      },
      "execution_count": null,
      "outputs": [
        {
          "output_type": "display_data",
          "data": {
            "text/plain": [
              "<Figure size 1000x600 with 0 Axes>"
            ]
          },
          "metadata": {}
        }
      ]
    },
    {
      "cell_type": "code",
      "source": [
        "import matplotlib.pyplot as plt\n",
        "import pandas as pd\n",
        "from sklearn.ensemble import RandomForestClassifier\n",
        "from matplotlib.animation import FuncAnimation\n",
        "import matplotlib\n",
        "\n",
        "# Set backend using rcParams\n",
        "matplotlib.rcParams['backend'] = 'TkAgg'\n",
        "\n",
        "# Sample data representing food items and their expiration status\n",
        "data = {\n",
        "    'Item': [f'Item_{i}' for i in range(1, 51)],\n",
        "    'Expiration_Date': expiration_dates,\n",
        "    'Wasted': wasted  # 1 indicates wasted, 0 indicates not wasted\n",
        "}\n",
        "\n",
        "df = pd.DataFrame(data)\n",
        "\n",
        "# Convert expiration date to numerical value (days remaining until expiration)\n",
        "df['Days_Until_Expiry'] = (df['Expiration_Date'] - pd.Timestamp.today()).dt.days\n",
        "\n",
        "# Prepare features and target variable\n",
        "X = df[['Days_Until_Expiry']]\n",
        "y = df['Wasted']\n",
        "\n",
        "# Train a simple Random Forest Classifier\n",
        "model = RandomForestClassifier(random_state=42)\n",
        "model.fit(X, y)\n",
        "\n",
        "# Predict on the entire dataset\n",
        "df['Prediction'] = model.predict(X)\n",
        "\n",
        "# Count the number of wasted and not wasted items before implementing tips\n",
        "wasted_count_before = df['Wasted'].sum()\n",
        "\n",
        "# Implementing tips (for demonstration, we assume implementing all tips reduces wastage by 20%)\n",
        "wasted_count_after = int(wasted_count_before * 0.8)\n",
        "\n",
        "# Create a function to update the graph for each frame of the animation\n",
        "def update(frame):\n",
        "    plt.cla()\n",
        "    labels = ['Wastage Before Tips', 'Wastage After Tips']\n",
        "    sizes = [wasted_count_before, wasted_count_after]\n",
        "    colors = ['crimson', 'limegreen']\n",
        "    plt.barh(labels, sizes, color=colors)\n",
        "    plt.title('Comparison of Wastage Before and After Implementing Tips', fontsize=16, pad=20)\n",
        "    plt.xlabel('Number of Wasted Items', fontsize=14)\n",
        "    plt.xticks(fontsize=12)\n",
        "    plt.yticks(fontsize=12)\n",
        "    plt.gca().invert_yaxis()  # Invert y-axis for better visualization\n",
        "    plt.grid(axis='x', linestyle='--', alpha=0.7)\n",
        "\n",
        "# Enable interactive mode\n",
        "plt.ion()\n",
        "\n",
        "# Create the animation\n",
        "fig = plt.figure(figsize=(10, 6))\n",
        "ani = FuncAnimation(fig, update, frames=range(2), repeat=False)\n",
        "\n",
        "# Save the animation as an MP4 file\n",
        "ani.save('wastage_comparison_animation.mp4', writer='ffmpeg')\n",
        "\n",
        "# Close the figure to prevent display of the blank figure\n",
        "plt.close()\n",
        "\n",
        "print(\"Animation saved as 'wastage_comparison_animation.mp4'. Please open the file to view the animation.\")\n"
      ],
      "metadata": {
        "colab": {
          "base_uri": "https://localhost:8080/"
        },
        "id": "4Iu5ovZQH_Mw",
        "outputId": "78bf1381-0c5b-497a-bb90-ea988311d848"
      },
      "execution_count": null,
      "outputs": [
        {
          "output_type": "stream",
          "name": "stderr",
          "text": [
            "/usr/local/lib/python3.10/dist-packages/matplotlib/animation.py:884: UserWarning: Animation was deleted without rendering anything. This is most likely not intended. To prevent deletion, assign the Animation to a variable, e.g. `anim`, that exists until you output the Animation using `plt.show()` or `anim.save()`.\n",
            "  warnings.warn(\n"
          ]
        },
        {
          "output_type": "stream",
          "name": "stdout",
          "text": [
            "Animation saved as 'wastage_comparison_animation.mp4'. Please open the file to view the animation.\n"
          ]
        }
      ]
    }
  ]
}